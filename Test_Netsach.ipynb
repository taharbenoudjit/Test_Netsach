{
 "cells": [
  {
   "cell_type": "markdown",
   "metadata": {},
   "source": "# Utilisation des verbes HTTP pour la manipulation d'une API."
  },
  {
   "cell_type": "markdown",
   "metadata": {},
   "source": "l'instalation de la library requests, l'importation de request avec la library json qui va me permet de faire des manipulation sur des json"
  },
  {
   "cell_type": "code",
   "execution_count": 5,
   "metadata": {},
   "outputs": [],
   "source": "import requests,json"
  },
  {
   "cell_type": "markdown",
   "metadata": {},
   "source": "stockage l'url ou je dois envoyer ma condidature et le informations a envoyer dans des variables "
  },
  {
   "cell_type": "code",
   "execution_count": 6,
   "metadata": {},
   "outputs": [],
   "source": "url = 'http://hire.netsach.eu/create-job-application/'\ncandidat = {'email':'benoudjit@et.esiea.fr', 'first_name':'Tahar', 'last_name':'Benoudjit'}\nconf_data = {'confirmed': True}"
  },
  {
   "cell_type": "markdown",
   "metadata": {},
   "source": "Faire un GET"
  },
  {
   "cell_type": "code",
   "execution_count": 7,
   "metadata": {},
   "outputs": [],
   "source": "get = requests.get(url)"
  },
  {
   "cell_type": "code",
   "execution_count": 8,
   "metadata": {},
   "outputs": [
    {
     "name": "stdout",
     "output_type": "stream",
     "text": "{\"message\": \"Merci, nous ne manquerons pas de vous contacter.\"}\n"
    }
   ],
   "source": "#L'envoie de mes coordonnees\npost = requests.post(url, data = candidat)\n#recuperation de key 'confirmation_url' depuis le json \nresponse = json.loads(post.text)['confirmation_url']\n#L'envoie de la confirmation\nconf_post = requests.post(response, data = conf_data)\n#Affichage de message \nprint (conf_post.text)"
  }
 ],
 "metadata": {
  "kernelspec": {
   "display_name": "Python 3",
   "language": "python",
   "name": "python3"
  },
  "language_info": {
   "codemirror_mode": {
    "name": "ipython",
    "version": 3
   },
   "file_extension": ".py",
   "mimetype": "text/x-python",
   "name": "python",
   "nbconvert_exporter": "python",
   "pygments_lexer": "ipython3",
   "version": "3.6.9"
  }
 },
 "nbformat": 4,
 "nbformat_minor": 4
}
